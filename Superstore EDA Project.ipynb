{
 "cells": [
  {
   "cell_type": "code",
   "execution_count": null,
   "id": "a5597337",
   "metadata": {},
   "outputs": [],
   "source": [
    "import pandas as pd\n",
    "import numpy as np\n",
    "import matplotlib.pyplot as plt\n",
    "import seaborn as sns"
   ]
  },
  {
   "cell_type": "code",
   "execution_count": null,
   "id": "152d77c9",
   "metadata": {},
   "outputs": [],
   "source": [
    "df = pd.read_excel(\"Glob_Superstore.xlsx\")"
   ]
  },
  {
   "cell_type": "code",
   "execution_count": null,
   "id": "b6edcd9f",
   "metadata": {},
   "outputs": [],
   "source": [
    "df.to_csv(\"Glob_Superstore.csv\", index = None, header = True)                    #converting excel file to csv\n",
    "store_df = pd.DataFrame(pd.read_csv(\"Glob_Superstore.csv\"))"
   ]
  },
  {
   "cell_type": "code",
   "execution_count": null,
   "id": "6af6a2d8",
   "metadata": {},
   "outputs": [],
   "source": [
    "store_df.columns"
   ]
  },
  {
   "cell_type": "code",
   "execution_count": null,
   "id": "4ca8f62b",
   "metadata": {},
   "outputs": [],
   "source": [
    "store_df.describe"
   ]
  },
  {
   "cell_type": "markdown",
   "id": "cce413e8",
   "metadata": {},
   "source": [
    "## Data Cleaning"
   ]
  },
  {
   "cell_type": "code",
   "execution_count": null,
   "id": "bfb62fa1",
   "metadata": {},
   "outputs": [],
   "source": [
    "#Checking for null values\n",
    "store_df.info()"
   ]
  },
  {
   "cell_type": "code",
   "execution_count": null,
   "id": "d0152619",
   "metadata": {},
   "outputs": [],
   "source": [
    "#We shall drop the \"Postal Code\" column since it is not needed for this analysis (and also has null values)\n",
    "store_df = store_df.drop(columns = ['Postal Code'])"
   ]
  },
  {
   "cell_type": "code",
   "execution_count": null,
   "id": "76917af0",
   "metadata": {},
   "outputs": [],
   "source": [
    "#Find any duplicates\n",
    "store_df.duplicated().sum()"
   ]
  },
  {
   "cell_type": "code",
   "execution_count": null,
   "id": "6850fae7",
   "metadata": {},
   "outputs": [],
   "source": [
    "#Converting the dates in the Order Date and Ship Date columns to proper datetime values\n",
    "store_df[\"Order Date\"] = pd.to_datetime(store_df[\"Order Date\"], errors = 'coerce')\n",
    "store_df[\"Ship Date\"] = pd.to_datetime(store_df[\"Ship Date\"], errors = 'coerce')"
   ]
  },
  {
   "cell_type": "code",
   "execution_count": null,
   "id": "2bfcc988",
   "metadata": {},
   "outputs": [],
   "source": [
    "store_df"
   ]
  },
  {
   "cell_type": "markdown",
   "id": "b973e035",
   "metadata": {},
   "source": [
    "## Exploratory Data Analysis"
   ]
  },
  {
   "cell_type": "code",
   "execution_count": null,
   "id": "2f6daf6d",
   "metadata": {},
   "outputs": [],
   "source": [
    "#Finding the distribution of Shipping Segments\n",
    "segment_counts = store_df[\"Segment\"].value_counts()\n",
    "colors = sns.color_palette('bright')[0:5]\n",
    "plt.pie(segment_counts.values, labels = segment_counts.index, colors = colors, autopct='%.0f%%')\n",
    "plt.title(\"Proportion of Segments Shipped\")\n",
    "plt.show()"
   ]
  },
  {
   "cell_type": "markdown",
   "id": "658604b1",
   "metadata": {},
   "source": [
    "This pie chart shows that Consumer Goods consitute the highest amount shipped while Home Office Supplies were the least."
   ]
  },
  {
   "cell_type": "code",
   "execution_count": null,
   "id": "47d995f0",
   "metadata": {},
   "outputs": [],
   "source": [
    "#Finding the distribution of Shipping Modes\n",
    "shpmode_counts = store_df[\"Ship Mode\"].value_counts()\n",
    "colors = sns.color_palette('bright')[0:6]\n",
    "plt.pie(shpmode_counts.values, labels = shpmode_counts.index, colors = colors, autopct='%.0f%%')\n",
    "plt.title(\"Proportion of Ship Modes\")\n",
    "plt.show()"
   ]
  },
  {
   "cell_type": "markdown",
   "id": "a3d20ceb",
   "metadata": {},
   "source": [
    "This pie chart shows that Standard Class consitute the highest mode shipped while Same Day modes were the least."
   ]
  },
  {
   "cell_type": "code",
   "execution_count": null,
   "id": "37a56a59",
   "metadata": {},
   "outputs": [],
   "source": [
    "#Counting the number of observations per Categories \n",
    "ax = sns.countplot(store_df['Category'])\n",
    "plt.show()"
   ]
  },
  {
   "cell_type": "markdown",
   "id": "2e411e6a",
   "metadata": {},
   "source": [
    "## Plotting Sales vs Profit Graph for each Category"
   ]
  },
  {
   "cell_type": "code",
   "execution_count": null,
   "id": "ff8cd036",
   "metadata": {},
   "outputs": [],
   "source": [
    "data = store_df.copy()                                                     #create a copy of the dataframe"
   ]
  },
  {
   "cell_type": "code",
   "execution_count": null,
   "id": "582ff9a5",
   "metadata": {},
   "outputs": [],
   "source": [
    "group_category = data.groupby(\"Category\")\n",
    "group_category.head()"
   ]
  },
  {
   "cell_type": "code",
   "execution_count": null,
   "id": "eb21081a",
   "metadata": {},
   "outputs": [],
   "source": [
    "cat_profit = data.groupby(\"Category\")['Profit']                             \n",
    "cat_sales = data.groupby(\"Category\")['Sales']"
   ]
  },
  {
   "cell_type": "code",
   "execution_count": null,
   "id": "71a5ab7a",
   "metadata": {},
   "outputs": [],
   "source": [
    "pr_sales = data.groupby(\"Category\")['Profit','Sales']\n",
    "pr_sales.sum()                                                     #create a new df showing the total profit/sales per category"
   ]
  },
  {
   "cell_type": "code",
   "execution_count": null,
   "id": "dc09b3ef",
   "metadata": {},
   "outputs": [],
   "source": [
    "pr_sales.agg(['sum']).plot.bar()\n",
    "plt.title('Total Profit and Sales per Category')\n",
    "plt.ylabel('Sales/Profit')\n",
    "plt.show()"
   ]
  },
  {
   "cell_type": "markdown",
   "id": "f749f46b",
   "metadata": {},
   "source": [
    "Technology products were the most sold while Office Supplies were the least sold. In addition, Technology products were also the most profitable, while Furniture products were the least profitable."
   ]
  },
  {
   "cell_type": "markdown",
   "id": "b72bb6e4",
   "metadata": {},
   "source": [
    "## Which Category Shows the Highest Profit?"
   ]
  },
  {
   "cell_type": "code",
   "execution_count": null,
   "id": "e6eb196e",
   "metadata": {},
   "outputs": [],
   "source": [
    "high_cat_pr = data.groupby(by=['Category']).sum().sort_values(by=['Profit']).reset_index()\n",
    "high_cat_pr"
   ]
  },
  {
   "cell_type": "code",
   "execution_count": null,
   "id": "42d9a97a",
   "metadata": {},
   "outputs": [],
   "source": [
    "plt.bar(\"Category\",'Profit',data=high_cat_pr)\n",
    "plt.show()"
   ]
  },
  {
   "cell_type": "markdown",
   "id": "65b0a5af",
   "metadata": {},
   "source": [
    "## Visualizing Total Profits"
   ]
  },
  {
   "cell_type": "code",
   "execution_count": null,
   "id": "6702884d",
   "metadata": {},
   "outputs": [],
   "source": [
    "data['Year'] = data['Order Date'].dt.year                #extracting the order year \n",
    "data['Month'] = data['Order Date'].dt.month              #extracting the order month \n",
    "data['Day'] = data['Order Date'].dt.day                  #extracting the order day \n",
    "data[\"Month_year\"] = data['Order Date'].apply(lambda x: x.strftime('%Y-%m'))"
   ]
  },
  {
   "cell_type": "code",
   "execution_count": null,
   "id": "2c14600e",
   "metadata": {},
   "outputs": [],
   "source": [
    "#Grouping the profits into month and year\n",
    "data_m_yr = data.groupby('Month_year').sum()['Profit'].reset_index()"
   ]
  },
  {
   "cell_type": "code",
   "execution_count": null,
   "id": "a945b8b7",
   "metadata": {},
   "outputs": [],
   "source": [
    "data_m_yr"
   ]
  },
  {
   "cell_type": "code",
   "execution_count": null,
   "id": "7c785f81",
   "metadata": {},
   "outputs": [],
   "source": [
    "#Plot the monthly trend of Profits\n",
    "import matplotlib.dates as mdates \n",
    "fig, ax = plt.subplots()\n",
    "ax.plot(data_m_yr[\"Month_year\"], data_m_yr[\"Profit\"])\n",
    "locator = mdates.DayLocator(interval=10)\n",
    "ax.xaxis.set_major_locator(locator)                         \n",
    "ax.set_xlabel(\"Date\")\n",
    "ax.set_ylabel(\"Profit\")\n",
    "plt.show()"
   ]
  },
  {
   "cell_type": "markdown",
   "id": "1c2c0bad",
   "metadata": {},
   "source": [
    "We can see that the Total Profits have increased over the given time period, even though it fluctuates from time to time. "
   ]
  },
  {
   "cell_type": "markdown",
   "id": "26bfc99a",
   "metadata": {},
   "source": [
    "## Which Order Had the Highest Sales?"
   ]
  },
  {
   "cell_type": "code",
   "execution_count": null,
   "id": "30cb9813",
   "metadata": {},
   "outputs": [],
   "source": [
    "#Grouping the sales based on Order Priority\n",
    "data_order_sales = data.groupby('Order Priority').mean()['Sales'].reset_index()"
   ]
  },
  {
   "cell_type": "code",
   "execution_count": null,
   "id": "93d0ca75",
   "metadata": {},
   "outputs": [],
   "source": [
    "data_order_sales"
   ]
  },
  {
   "cell_type": "code",
   "execution_count": null,
   "id": "94bf7949",
   "metadata": {},
   "outputs": [],
   "source": [
    "#Ropunding the values in the Sales column\n",
    "data_order_sales['Sales'] = data_order_sales['Sales'].round(2)\n",
    "\n",
    "# find the index for the max Sales\n",
    "max_sales = data_order_sales['Sales'].idxmax()\n",
    "\n",
    "# get the Order Priority value for the max Profit index\n",
    "order_max = data_order_sales.loc[max_sales, 'Order Priority']\n",
    "\n",
    "# print the statement\n",
    "print(f\"{order_max} order priority had the highest sales at US$ {data_order_sales['Sales'].max()}.\")"
   ]
  }
 ],
 "metadata": {
  "kernelspec": {
   "display_name": "Python 3 (ipykernel)",
   "language": "python",
   "name": "python3"
  },
  "language_info": {
   "codemirror_mode": {
    "name": "ipython",
    "version": 3
   },
   "file_extension": ".py",
   "mimetype": "text/x-python",
   "name": "python",
   "nbconvert_exporter": "python",
   "pygments_lexer": "ipython3",
   "version": "3.10.9"
  }
 },
 "nbformat": 4,
 "nbformat_minor": 5
}
